{
 "cells": [
  {
   "cell_type": "code",
   "execution_count": 1,
   "metadata": {},
   "outputs": [],
   "source": [
    "import requests\n",
    "import plotly\n",
    "import json\n",
    "import datetime\n",
    "import pandas as pd\n",
    "from sqlalchemy import create_engine, text, types \n",
    "#from sqlalchemy_utils import database_exists, create_database\n",
    "from sqlalchemy.dialects.postgresql import JSON as postgres_json\n",
    "from dotenv import dotenv_values\n",
    "import os\n",
    "import pandas as pd\n",
    "import plotly.express as px\n",
    "from dotenv import load_dotenv\n",
    "from sqlalchemy import create_engine"
   ]
  },
  {
   "cell_type": "code",
   "execution_count": 2,
   "metadata": {},
   "outputs": [],
   "source": [
    "# copied from the course materials because Render is not calling the .env from my local drive but from the environment variables that we have setup\n",
    "load_dotenv()\n",
    "\n",
    "weather_api_key = os.getenv(\"WEATHER_API_KEY\")\n",
    "host = os.getenv(\"POSTGRES_HOST\")\n",
    "password = os.getenv(\"POSTGRES_PASS\")\n",
    "db_name = os.getenv(\"POSTGRES_DB\")\n",
    "\n",
    "#config = dotenv_values('/Users/spiced/Documents/GitHub/SPICEDRepo/clovebases-student-code/Week7/token.env')\n",
    "\n",
    "#host = config['POSTGRES_HOST'] # align the key label with your .env file !\n",
    "#password = config['POSTGRES_PASS']\n",
    "#db_name = config['POSTGRES_DB']\n",
    "\n",
    "#weather_api_key = config['weatherapi']\n",
    "# and other environmental variables you need\n",
    "\n",
    "postgres_url = f'postgresql://postgres:{password}@{host}:5432/{db_name}'\n",
    "engine = create_engine(postgres_url, echo=False)\n"
   ]
  },
  {
   "cell_type": "code",
   "execution_count": 3,
   "metadata": {},
   "outputs": [
    {
     "name": "stdout",
     "output_type": "stream",
     "text": [
      "[(datetime.date(2023, 9, 13), 13.0, 'September', 2023.0, 'Wednesday', 37.0, '2023-37', 'Berlin', 'Berlin', 'Germany', Decimal('52.52'), Decimal('13.4'), 'Europe/Berlin', Decimal('20.1'), Decimal('12.6'), Decimal('17.0'), Decimal('0.0'), Decimal('0.0'), Decimal('81'), 0, 0, 0, 0, 'Overcast', '//cdn.weatherapi.com/weather/64x64/day/122.png', '&nbsp;&nbsp;&nbsp;&nbsp;![weather_icon](//cdn.weatherapi.com/weather/64x64/day/122.png?width=35)', '1009', Decimal('25.2'), Decimal('10.0'), Decimal('5.0'), datetime.time(6, 36), datetime.time(19, 27), datetime.time(4, 21), datetime.time(19, 23), 'Waning Crescent', Decimal('4')), (datetime.date(2023, 9, 12), 12.0, 'September', 2023.0, 'Tuesday  ', 37.0, '2023-37', 'Berlin', 'Berlin', 'Germany', Decimal('52.52'), Decimal('13.4'), 'Europe/Berlin', Decimal('28.6'), Decimal('19.9'), Decimal('23.3'), Decimal('3.6'), Decimal('0.0'), Decimal('58'), 1, 100, 0, 0, 'Moderate rain at times', '//cdn.weatherapi.com/weather/64x64/day/299.png', '&nbsp;&nbsp;&nbsp;&nbsp;![weather_icon](//cdn.weatherapi.com/weather/64x64/day/299.png?width=35)', '1186', Decimal('13.0'), Decimal('9.9'), Decimal('6.0'), datetime.time(6, 35), datetime.time(19, 30), datetime.time(3, 7), datetime.time(19, 10), 'Waning Crescent', Decimal('8')), (datetime.date(2023, 9, 11), 11.0, 'September', 2023.0, 'Monday   ', 37.0, '2023-37', 'Berlin', 'Berlin', 'Germany', Decimal('52.52'), Decimal('13.4'), 'Europe/Berlin', Decimal('30.4'), Decimal('19.9'), Decimal('25.1'), Decimal('0.0'), Decimal('0.0'), Decimal('50'), 0, 0, 0, 0, 'Sunny', '//cdn.weatherapi.com/weather/64x64/day/113.png', '&nbsp;&nbsp;&nbsp;&nbsp;![weather_icon](//cdn.weatherapi.com/weather/64x64/day/113.png?width=35)', '1000', Decimal('6.5'), Decimal('10.0'), Decimal('8.0'), datetime.time(6, 33), datetime.time(19, 32), datetime.time(1, 53), datetime.time(18, 54), 'Waning Crescent', Decimal('14')), (datetime.date(2023, 9, 10), 10.0, 'September', 2023.0, 'Sunday   ', 36.0, '2023-36', 'Berlin', 'Berlin', 'Germany', Decimal('52.52'), Decimal('13.4'), 'Europe/Berlin', Decimal('30.5'), Decimal('18.8'), Decimal('24.4'), Decimal('0.0'), Decimal('0.0'), Decimal('42'), 0, 0, 0, 0, 'Sunny', '//cdn.weatherapi.com/weather/64x64/day/113.png', '&nbsp;&nbsp;&nbsp;&nbsp;![weather_icon](//cdn.weatherapi.com/weather/64x64/day/113.png?width=35)', '1000', Decimal('8.3'), Decimal('10.0'), Decimal('8.0'), datetime.time(6, 31), datetime.time(19, 35), datetime.time(0, 42), datetime.time(18, 32), 'Waning Crescent', Decimal('22')), (datetime.date(2023, 9, 13), 13.0, 'September', 2023.0, 'Wednesday', 37.0, '2023-37', 'Hamburg', 'Hamburg', 'Germany', Decimal('53.55'), Decimal('10.0'), 'Europe/Berlin', Decimal('17.9'), Decimal('9.9'), Decimal('14.3'), Decimal('10.8'), Decimal('0.0'), Decimal('76'), 1, 100, 0, 0, 'Moderate rain', '//cdn.weatherapi.com/weather/64x64/day/302.png', '&nbsp;&nbsp;&nbsp;&nbsp;![weather_icon](//cdn.weatherapi.com/weather/64x64/day/302.png?width=35)', '1189', Decimal('21.6'), Decimal('9.2'), Decimal('4.0'), datetime.time(6, 49), datetime.time(19, 42), datetime.time(4, 31), datetime.time(19, 39), 'Waning Crescent', Decimal('4')), (datetime.date(2023, 9, 12), 12.0, 'September', 2023.0, 'Tuesday  ', 37.0, '2023-37', 'Hamburg', 'Hamburg', 'Germany', Decimal('53.55'), Decimal('10.0'), 'Europe/Berlin', Decimal('24.5'), Decimal('16.3'), Decimal('19.7'), Decimal('0.0'), Decimal('0.0'), Decimal('82'), 0, 0, 0, 0, 'Fog', '//cdn.weatherapi.com/weather/64x64/day/248.png', '&nbsp;&nbsp;&nbsp;&nbsp;![weather_icon](//cdn.weatherapi.com/weather/64x64/day/248.png?width=35)', '1135', Decimal('9.0'), Decimal('6.9'), Decimal('5.0'), datetime.time(6, 47), datetime.time(19, 44), datetime.time(3, 16), datetime.time(19, 28), 'Waning Crescent', Decimal('8')), (datetime.date(2023, 9, 11), 11.0, 'September', 2023.0, 'Monday   ', 37.0, '2023-37', 'Hamburg', 'Hamburg', 'Germany', Decimal('53.55'), Decimal('10.0'), 'Europe/Berlin', Decimal('29.3'), Decimal('16.4'), Decimal('22.2'), Decimal('1.1'), Decimal('0.0'), Decimal('69'), 1, 100, 0, 0, 'Sunny', '//cdn.weatherapi.com/weather/64x64/day/113.png', '&nbsp;&nbsp;&nbsp;&nbsp;![weather_icon](//cdn.weatherapi.com/weather/64x64/day/113.png?width=35)', '1000', Decimal('9.7'), Decimal('9.9'), Decimal('7.0'), datetime.time(6, 46), datetime.time(19, 47), datetime.time(2, 1), datetime.time(19, 13), 'Waning Crescent', Decimal('14')), (datetime.date(2023, 9, 10), 10.0, 'September', 2023.0, 'Sunday   ', 36.0, '2023-36', 'Hamburg', 'Hamburg', 'Germany', Decimal('53.55'), Decimal('10.0'), 'Europe/Berlin', Decimal('27.1'), Decimal('15.2'), Decimal('21.1'), Decimal('0.0'), Decimal('0.0'), Decimal('71'), 0, 0, 0, 0, 'Sunny', '//cdn.weatherapi.com/weather/64x64/day/113.png', '&nbsp;&nbsp;&nbsp;&nbsp;![weather_icon](//cdn.weatherapi.com/weather/64x64/day/113.png?width=35)', '1000', Decimal('7.6'), Decimal('10.0'), Decimal('7.0'), datetime.time(6, 44), datetime.time(19, 49), datetime.time(0, 48), datetime.time(18, 53), 'Waning Crescent', Decimal('22')), (datetime.date(2023, 9, 13), 13.0, 'September', 2023.0, 'Wednesday', 37.0, '2023-37', 'Cagliari', 'Sardegna', 'Italy', Decimal('39.22'), Decimal('9.12'), 'Europe/Rome', Decimal('28.9'), Decimal('21.9'), Decimal('25.2'), Decimal('0.0'), Decimal('0.0'), Decimal('62'), 0, 0, 0, 0, 'Partly cloudy', '//cdn.weatherapi.com/weather/64x64/day/116.png', '&nbsp;&nbsp;&nbsp;&nbsp;![weather_icon](//cdn.weatherapi.com/weather/64x64/day/116.png?width=35)', '1003', Decimal('14.4'), Decimal('10.0'), Decimal('7.0'), datetime.time(7, 3), datetime.time(19, 36), datetime.time(5, 14), datetime.time(19, 13), 'Waning Crescent', Decimal('4')), (datetime.date(2023, 9, 12), 12.0, 'September', 2023.0, 'Tuesday  ', 37.0, '2023-37', 'Cagliari', 'Sardegna', 'Italy', Decimal('39.22'), Decimal('9.12'), 'Europe/Rome', Decimal('29.1'), Decimal('20.5'), Decimal('24.5'), Decimal('0.0'), Decimal('0.0'), Decimal('57'), 0, 0, 0, 0, 'Sunny', '//cdn.weatherapi.com/weather/64x64/day/113.png', '&nbsp;&nbsp;&nbsp;&nbsp;![weather_icon](//cdn.weatherapi.com/weather/64x64/day/113.png?width=35)', '1000', Decimal('21.2'), Decimal('10.0'), Decimal('7.0'), datetime.time(7, 2), datetime.time(19, 38), datetime.time(4, 12), datetime.time(18, 49), 'Waning Crescent', Decimal('8')), (datetime.date(2023, 9, 11), 11.0, 'September', 2023.0, 'Monday   ', 37.0, '2023-37', 'Cagliari', 'Sardegna', 'Italy', Decimal('39.22'), Decimal('9.12'), 'Europe/Rome', Decimal('28.9'), Decimal('20.7'), Decimal('24.4'), Decimal('0.0'), Decimal('0.0'), Decimal('55'), 0, 0, 0, 0, 'Partly cloudy', '//cdn.weatherapi.com/weather/64x64/day/116.png', '&nbsp;&nbsp;&nbsp;&nbsp;![weather_icon](//cdn.weatherapi.com/weather/64x64/day/116.png?width=35)', '1003', Decimal('16.9'), Decimal('10.0'), Decimal('7.0'), datetime.time(7, 1), datetime.time(19, 39), datetime.time(3, 11), datetime.time(18, 21), 'Waning Crescent', Decimal('14')), (datetime.date(2023, 9, 10), 10.0, 'September', 2023.0, 'Sunday   ', 36.0, '2023-36', 'Cagliari', 'Sardegna', 'Italy', Decimal('39.22'), Decimal('9.12'), 'Europe/Rome', Decimal('29.0'), Decimal('21.2'), Decimal('24.9'), Decimal('0.0'), Decimal('0.0'), Decimal('54'), 0, 0, 0, 0, 'Sunny', '//cdn.weatherapi.com/weather/64x64/day/113.png', '&nbsp;&nbsp;&nbsp;&nbsp;![weather_icon](//cdn.weatherapi.com/weather/64x64/day/113.png?width=35)', '1000', Decimal('18.4'), Decimal('10.0'), Decimal('7.0'), datetime.time(7, 0), datetime.time(19, 41), datetime.time(2, 10), datetime.time(17, 48), 'Waning Crescent', Decimal('22'))]\n"
     ]
    }
   ],
   "source": [
    "with engine.begin() as conn:\n",
    "    result = conn.execute(text(\"SELECT * FROM mart_forecast_day;\"))\n",
    "    data = result.all()\n",
    "\n",
    "df = pd.DataFrame(data)"
   ]
  },
  {
   "cell_type": "code",
   "execution_count": 4,
   "metadata": {},
   "outputs": [
    {
     "data": {
      "text/plain": [
       "Index(['date', 'day_of_month', 'month_of_year', 'year', 'day_of_week',\n",
       "       'week_of_year', 'year_and_week', 'city', 'region', 'country', 'lat',\n",
       "       'lon', 'timezone_id', 'max_temp_c', 'min_temp_c', 'avg_temp_c',\n",
       "       'total_precip_mm', 'total_snow_cm', 'avg_humidity',\n",
       "       'daily_will_it_rain', 'daily_chance_of_rain', 'daily_will_it_snow',\n",
       "       'daily_chance_of_snow', 'condition_text', 'condition_icon',\n",
       "       'condition_icon_md', 'condition_code', 'max_wind_kph', 'avg_vis_km',\n",
       "       'uv', 'sunrise_n', 'sunset_n', 'moonrise_n', 'moonset_n', 'moon_phase',\n",
       "       'moon_illumination'],\n",
       "      dtype='object')"
      ]
     },
     "execution_count": 4,
     "metadata": {},
     "output_type": "execute_result"
    }
   ],
   "source": [
    "df.columns"
   ]
  },
  {
   "cell_type": "code",
   "execution_count": 5,
   "metadata": {},
   "outputs": [
    {
     "data": {
      "text/plain": [
       "array(['Berlin', 'Hamburg', 'Cagliari'], dtype=object)"
      ]
     },
     "execution_count": 5,
     "metadata": {},
     "output_type": "execute_result"
    }
   ],
   "source": [
    "df['city'].unique()\n"
   ]
  },
  {
   "cell_type": "code",
   "execution_count": 6,
   "metadata": {},
   "outputs": [
    {
     "data": {
      "application/vnd.plotly.v1+json": {
       "config": {
        "plotlyServerURL": "https://plot.ly"
       },
       "data": [
        {
         "hovertemplate": "Location=Berlin<br>Date=%{x}<br>Average Temperature (°C)=%{y}<extra></extra>",
         "legendgroup": "Berlin",
         "line": {
          "color": "#636efa",
          "dash": "solid"
         },
         "marker": {
          "symbol": "circle"
         },
         "mode": "lines",
         "name": "Berlin",
         "orientation": "v",
         "showlegend": true,
         "type": "scatter",
         "x": [
          "2023-09-13",
          "2023-09-12",
          "2023-09-11",
          "2023-09-10"
         ],
         "xaxis": "x",
         "y": [
          17,
          23.3,
          25.1,
          24.4
         ],
         "yaxis": "y"
        },
        {
         "hovertemplate": "Location=Hamburg<br>Date=%{x}<br>Average Temperature (°C)=%{y}<extra></extra>",
         "legendgroup": "Hamburg",
         "line": {
          "color": "#EF553B",
          "dash": "solid"
         },
         "marker": {
          "symbol": "circle"
         },
         "mode": "lines",
         "name": "Hamburg",
         "orientation": "v",
         "showlegend": true,
         "type": "scatter",
         "x": [
          "2023-09-13",
          "2023-09-12",
          "2023-09-11",
          "2023-09-10"
         ],
         "xaxis": "x",
         "y": [
          14.3,
          19.7,
          22.2,
          21.1
         ],
         "yaxis": "y"
        },
        {
         "hovertemplate": "Location=Cagliari<br>Date=%{x}<br>Average Temperature (°C)=%{y}<extra></extra>",
         "legendgroup": "Cagliari",
         "line": {
          "color": "#00cc96",
          "dash": "solid"
         },
         "marker": {
          "symbol": "circle"
         },
         "mode": "lines",
         "name": "Cagliari",
         "orientation": "v",
         "showlegend": true,
         "type": "scatter",
         "x": [
          "2023-09-13",
          "2023-09-12",
          "2023-09-11",
          "2023-09-10"
         ],
         "xaxis": "x",
         "y": [
          25.2,
          24.5,
          24.4,
          24.9
         ],
         "yaxis": "y"
        }
       ],
       "layout": {
        "legend": {
         "title": {
          "text": "Location"
         },
         "tracegroupgap": 0
        },
        "template": {
         "data": {
          "bar": [
           {
            "error_x": {
             "color": "#f2f5fa"
            },
            "error_y": {
             "color": "#f2f5fa"
            },
            "marker": {
             "line": {
              "color": "rgb(17,17,17)",
              "width": 0.5
             },
             "pattern": {
              "fillmode": "overlay",
              "size": 10,
              "solidity": 0.2
             }
            },
            "type": "bar"
           }
          ],
          "barpolar": [
           {
            "marker": {
             "line": {
              "color": "rgb(17,17,17)",
              "width": 0.5
             },
             "pattern": {
              "fillmode": "overlay",
              "size": 10,
              "solidity": 0.2
             }
            },
            "type": "barpolar"
           }
          ],
          "carpet": [
           {
            "aaxis": {
             "endlinecolor": "#A2B1C6",
             "gridcolor": "#506784",
             "linecolor": "#506784",
             "minorgridcolor": "#506784",
             "startlinecolor": "#A2B1C6"
            },
            "baxis": {
             "endlinecolor": "#A2B1C6",
             "gridcolor": "#506784",
             "linecolor": "#506784",
             "minorgridcolor": "#506784",
             "startlinecolor": "#A2B1C6"
            },
            "type": "carpet"
           }
          ],
          "choropleth": [
           {
            "colorbar": {
             "outlinewidth": 0,
             "ticks": ""
            },
            "type": "choropleth"
           }
          ],
          "contour": [
           {
            "colorbar": {
             "outlinewidth": 0,
             "ticks": ""
            },
            "colorscale": [
             [
              0,
              "#0d0887"
             ],
             [
              0.1111111111111111,
              "#46039f"
             ],
             [
              0.2222222222222222,
              "#7201a8"
             ],
             [
              0.3333333333333333,
              "#9c179e"
             ],
             [
              0.4444444444444444,
              "#bd3786"
             ],
             [
              0.5555555555555556,
              "#d8576b"
             ],
             [
              0.6666666666666666,
              "#ed7953"
             ],
             [
              0.7777777777777778,
              "#fb9f3a"
             ],
             [
              0.8888888888888888,
              "#fdca26"
             ],
             [
              1,
              "#f0f921"
             ]
            ],
            "type": "contour"
           }
          ],
          "contourcarpet": [
           {
            "colorbar": {
             "outlinewidth": 0,
             "ticks": ""
            },
            "type": "contourcarpet"
           }
          ],
          "heatmap": [
           {
            "colorbar": {
             "outlinewidth": 0,
             "ticks": ""
            },
            "colorscale": [
             [
              0,
              "#0d0887"
             ],
             [
              0.1111111111111111,
              "#46039f"
             ],
             [
              0.2222222222222222,
              "#7201a8"
             ],
             [
              0.3333333333333333,
              "#9c179e"
             ],
             [
              0.4444444444444444,
              "#bd3786"
             ],
             [
              0.5555555555555556,
              "#d8576b"
             ],
             [
              0.6666666666666666,
              "#ed7953"
             ],
             [
              0.7777777777777778,
              "#fb9f3a"
             ],
             [
              0.8888888888888888,
              "#fdca26"
             ],
             [
              1,
              "#f0f921"
             ]
            ],
            "type": "heatmap"
           }
          ],
          "heatmapgl": [
           {
            "colorbar": {
             "outlinewidth": 0,
             "ticks": ""
            },
            "colorscale": [
             [
              0,
              "#0d0887"
             ],
             [
              0.1111111111111111,
              "#46039f"
             ],
             [
              0.2222222222222222,
              "#7201a8"
             ],
             [
              0.3333333333333333,
              "#9c179e"
             ],
             [
              0.4444444444444444,
              "#bd3786"
             ],
             [
              0.5555555555555556,
              "#d8576b"
             ],
             [
              0.6666666666666666,
              "#ed7953"
             ],
             [
              0.7777777777777778,
              "#fb9f3a"
             ],
             [
              0.8888888888888888,
              "#fdca26"
             ],
             [
              1,
              "#f0f921"
             ]
            ],
            "type": "heatmapgl"
           }
          ],
          "histogram": [
           {
            "marker": {
             "pattern": {
              "fillmode": "overlay",
              "size": 10,
              "solidity": 0.2
             }
            },
            "type": "histogram"
           }
          ],
          "histogram2d": [
           {
            "colorbar": {
             "outlinewidth": 0,
             "ticks": ""
            },
            "colorscale": [
             [
              0,
              "#0d0887"
             ],
             [
              0.1111111111111111,
              "#46039f"
             ],
             [
              0.2222222222222222,
              "#7201a8"
             ],
             [
              0.3333333333333333,
              "#9c179e"
             ],
             [
              0.4444444444444444,
              "#bd3786"
             ],
             [
              0.5555555555555556,
              "#d8576b"
             ],
             [
              0.6666666666666666,
              "#ed7953"
             ],
             [
              0.7777777777777778,
              "#fb9f3a"
             ],
             [
              0.8888888888888888,
              "#fdca26"
             ],
             [
              1,
              "#f0f921"
             ]
            ],
            "type": "histogram2d"
           }
          ],
          "histogram2dcontour": [
           {
            "colorbar": {
             "outlinewidth": 0,
             "ticks": ""
            },
            "colorscale": [
             [
              0,
              "#0d0887"
             ],
             [
              0.1111111111111111,
              "#46039f"
             ],
             [
              0.2222222222222222,
              "#7201a8"
             ],
             [
              0.3333333333333333,
              "#9c179e"
             ],
             [
              0.4444444444444444,
              "#bd3786"
             ],
             [
              0.5555555555555556,
              "#d8576b"
             ],
             [
              0.6666666666666666,
              "#ed7953"
             ],
             [
              0.7777777777777778,
              "#fb9f3a"
             ],
             [
              0.8888888888888888,
              "#fdca26"
             ],
             [
              1,
              "#f0f921"
             ]
            ],
            "type": "histogram2dcontour"
           }
          ],
          "mesh3d": [
           {
            "colorbar": {
             "outlinewidth": 0,
             "ticks": ""
            },
            "type": "mesh3d"
           }
          ],
          "parcoords": [
           {
            "line": {
             "colorbar": {
              "outlinewidth": 0,
              "ticks": ""
             }
            },
            "type": "parcoords"
           }
          ],
          "pie": [
           {
            "automargin": true,
            "type": "pie"
           }
          ],
          "scatter": [
           {
            "marker": {
             "line": {
              "color": "#283442"
             }
            },
            "type": "scatter"
           }
          ],
          "scatter3d": [
           {
            "line": {
             "colorbar": {
              "outlinewidth": 0,
              "ticks": ""
             }
            },
            "marker": {
             "colorbar": {
              "outlinewidth": 0,
              "ticks": ""
             }
            },
            "type": "scatter3d"
           }
          ],
          "scattercarpet": [
           {
            "marker": {
             "colorbar": {
              "outlinewidth": 0,
              "ticks": ""
             }
            },
            "type": "scattercarpet"
           }
          ],
          "scattergeo": [
           {
            "marker": {
             "colorbar": {
              "outlinewidth": 0,
              "ticks": ""
             }
            },
            "type": "scattergeo"
           }
          ],
          "scattergl": [
           {
            "marker": {
             "line": {
              "color": "#283442"
             }
            },
            "type": "scattergl"
           }
          ],
          "scattermapbox": [
           {
            "marker": {
             "colorbar": {
              "outlinewidth": 0,
              "ticks": ""
             }
            },
            "type": "scattermapbox"
           }
          ],
          "scatterpolar": [
           {
            "marker": {
             "colorbar": {
              "outlinewidth": 0,
              "ticks": ""
             }
            },
            "type": "scatterpolar"
           }
          ],
          "scatterpolargl": [
           {
            "marker": {
             "colorbar": {
              "outlinewidth": 0,
              "ticks": ""
             }
            },
            "type": "scatterpolargl"
           }
          ],
          "scatterternary": [
           {
            "marker": {
             "colorbar": {
              "outlinewidth": 0,
              "ticks": ""
             }
            },
            "type": "scatterternary"
           }
          ],
          "surface": [
           {
            "colorbar": {
             "outlinewidth": 0,
             "ticks": ""
            },
            "colorscale": [
             [
              0,
              "#0d0887"
             ],
             [
              0.1111111111111111,
              "#46039f"
             ],
             [
              0.2222222222222222,
              "#7201a8"
             ],
             [
              0.3333333333333333,
              "#9c179e"
             ],
             [
              0.4444444444444444,
              "#bd3786"
             ],
             [
              0.5555555555555556,
              "#d8576b"
             ],
             [
              0.6666666666666666,
              "#ed7953"
             ],
             [
              0.7777777777777778,
              "#fb9f3a"
             ],
             [
              0.8888888888888888,
              "#fdca26"
             ],
             [
              1,
              "#f0f921"
             ]
            ],
            "type": "surface"
           }
          ],
          "table": [
           {
            "cells": {
             "fill": {
              "color": "#506784"
             },
             "line": {
              "color": "rgb(17,17,17)"
             }
            },
            "header": {
             "fill": {
              "color": "#2a3f5f"
             },
             "line": {
              "color": "rgb(17,17,17)"
             }
            },
            "type": "table"
           }
          ]
         },
         "layout": {
          "annotationdefaults": {
           "arrowcolor": "#f2f5fa",
           "arrowhead": 0,
           "arrowwidth": 1
          },
          "autotypenumbers": "strict",
          "coloraxis": {
           "colorbar": {
            "outlinewidth": 0,
            "ticks": ""
           }
          },
          "colorscale": {
           "diverging": [
            [
             0,
             "#8e0152"
            ],
            [
             0.1,
             "#c51b7d"
            ],
            [
             0.2,
             "#de77ae"
            ],
            [
             0.3,
             "#f1b6da"
            ],
            [
             0.4,
             "#fde0ef"
            ],
            [
             0.5,
             "#f7f7f7"
            ],
            [
             0.6,
             "#e6f5d0"
            ],
            [
             0.7,
             "#b8e186"
            ],
            [
             0.8,
             "#7fbc41"
            ],
            [
             0.9,
             "#4d9221"
            ],
            [
             1,
             "#276419"
            ]
           ],
           "sequential": [
            [
             0,
             "#0d0887"
            ],
            [
             0.1111111111111111,
             "#46039f"
            ],
            [
             0.2222222222222222,
             "#7201a8"
            ],
            [
             0.3333333333333333,
             "#9c179e"
            ],
            [
             0.4444444444444444,
             "#bd3786"
            ],
            [
             0.5555555555555556,
             "#d8576b"
            ],
            [
             0.6666666666666666,
             "#ed7953"
            ],
            [
             0.7777777777777778,
             "#fb9f3a"
            ],
            [
             0.8888888888888888,
             "#fdca26"
            ],
            [
             1,
             "#f0f921"
            ]
           ],
           "sequentialminus": [
            [
             0,
             "#0d0887"
            ],
            [
             0.1111111111111111,
             "#46039f"
            ],
            [
             0.2222222222222222,
             "#7201a8"
            ],
            [
             0.3333333333333333,
             "#9c179e"
            ],
            [
             0.4444444444444444,
             "#bd3786"
            ],
            [
             0.5555555555555556,
             "#d8576b"
            ],
            [
             0.6666666666666666,
             "#ed7953"
            ],
            [
             0.7777777777777778,
             "#fb9f3a"
            ],
            [
             0.8888888888888888,
             "#fdca26"
            ],
            [
             1,
             "#f0f921"
            ]
           ]
          },
          "colorway": [
           "#636efa",
           "#EF553B",
           "#00cc96",
           "#ab63fa",
           "#FFA15A",
           "#19d3f3",
           "#FF6692",
           "#B6E880",
           "#FF97FF",
           "#FECB52"
          ],
          "font": {
           "color": "#f2f5fa"
          },
          "geo": {
           "bgcolor": "rgb(17,17,17)",
           "lakecolor": "rgb(17,17,17)",
           "landcolor": "rgb(17,17,17)",
           "showlakes": true,
           "showland": true,
           "subunitcolor": "#506784"
          },
          "hoverlabel": {
           "align": "left"
          },
          "hovermode": "closest",
          "mapbox": {
           "style": "dark"
          },
          "paper_bgcolor": "rgb(17,17,17)",
          "plot_bgcolor": "rgb(17,17,17)",
          "polar": {
           "angularaxis": {
            "gridcolor": "#506784",
            "linecolor": "#506784",
            "ticks": ""
           },
           "bgcolor": "rgb(17,17,17)",
           "radialaxis": {
            "gridcolor": "#506784",
            "linecolor": "#506784",
            "ticks": ""
           }
          },
          "scene": {
           "xaxis": {
            "backgroundcolor": "rgb(17,17,17)",
            "gridcolor": "#506784",
            "gridwidth": 2,
            "linecolor": "#506784",
            "showbackground": true,
            "ticks": "",
            "zerolinecolor": "#C8D4E3"
           },
           "yaxis": {
            "backgroundcolor": "rgb(17,17,17)",
            "gridcolor": "#506784",
            "gridwidth": 2,
            "linecolor": "#506784",
            "showbackground": true,
            "ticks": "",
            "zerolinecolor": "#C8D4E3"
           },
           "zaxis": {
            "backgroundcolor": "rgb(17,17,17)",
            "gridcolor": "#506784",
            "gridwidth": 2,
            "linecolor": "#506784",
            "showbackground": true,
            "ticks": "",
            "zerolinecolor": "#C8D4E3"
           }
          },
          "shapedefaults": {
           "line": {
            "color": "#f2f5fa"
           }
          },
          "sliderdefaults": {
           "bgcolor": "#C8D4E3",
           "bordercolor": "rgb(17,17,17)",
           "borderwidth": 1,
           "tickwidth": 0
          },
          "ternary": {
           "aaxis": {
            "gridcolor": "#506784",
            "linecolor": "#506784",
            "ticks": ""
           },
           "baxis": {
            "gridcolor": "#506784",
            "linecolor": "#506784",
            "ticks": ""
           },
           "bgcolor": "rgb(17,17,17)",
           "caxis": {
            "gridcolor": "#506784",
            "linecolor": "#506784",
            "ticks": ""
           }
          },
          "title": {
           "x": 0.05
          },
          "updatemenudefaults": {
           "bgcolor": "#506784",
           "borderwidth": 0
          },
          "xaxis": {
           "automargin": true,
           "gridcolor": "#283442",
           "linecolor": "#506784",
           "ticks": "",
           "title": {
            "standoff": 15
           },
           "zerolinecolor": "#283442",
           "zerolinewidth": 2
          },
          "yaxis": {
           "automargin": true,
           "gridcolor": "#283442",
           "linecolor": "#506784",
           "ticks": "",
           "title": {
            "standoff": 15
           },
           "zerolinecolor": "#283442",
           "zerolinewidth": 2
          }
         }
        },
        "title": {
         "text": "Average Temperatures in Berlin, Cagliari, and Hamburg"
        },
        "xaxis": {
         "anchor": "y",
         "domain": [
          0,
          1
         ],
         "title": {
          "text": "Date"
         }
        },
        "yaxis": {
         "anchor": "x",
         "domain": [
          0,
          1
         ],
         "title": {
          "text": "Average Temperature (°C)"
         }
        }
       }
      }
     },
     "metadata": {},
     "output_type": "display_data"
    }
   ],
   "source": [
    "# Filter data for Berlin, Cagliari, and Hamburg\n",
    "df_filtered = df[df['city'].isin(['Berlin', 'Cagliari', 'Hamburg'])]\n",
    "\n",
    "# Create an interactive line plot for Berlin, Cagliari, and Hamburg\n",
    "fig_avg_temp_3_cities = px.line(df_filtered, x='date', y='avg_temp_c', color='city', \n",
    "              title='Average Temperatures in Berlin, Cagliari, and Hamburg', \n",
    "              labels={'date': 'Date', 'avg_temp_c': 'Average Temperature (°C)', 'city': 'Location'},\n",
    "              template='plotly_dark')\n",
    "\n",
    "# Show the plot\n",
    "fig.show()\n"
   ]
  },
  {
   "cell_type": "code",
   "execution_count": 7,
   "metadata": {},
   "outputs": [
    {
     "data": {
      "application/vnd.plotly.v1+json": {
       "config": {
        "plotlyServerURL": "https://plot.ly"
       },
       "data": [
        {
         "hovertemplate": "Location=Berlin<br>Date=%{x}<br>Max Temperature (°C)=%{y}<extra></extra>",
         "legendgroup": "Berlin",
         "line": {
          "color": "#636efa",
          "dash": "solid"
         },
         "marker": {
          "symbol": "circle"
         },
         "mode": "lines",
         "name": "Berlin",
         "orientation": "v",
         "showlegend": true,
         "type": "scatter",
         "x": [
          "2023-09-13",
          "2023-09-12",
          "2023-09-11",
          "2023-09-10"
         ],
         "xaxis": "x",
         "y": [
          20.1,
          28.6,
          30.4,
          30.5
         ],
         "yaxis": "y"
        },
        {
         "hovertemplate": "Location=Hamburg<br>Date=%{x}<br>Max Temperature (°C)=%{y}<extra></extra>",
         "legendgroup": "Hamburg",
         "line": {
          "color": "#EF553B",
          "dash": "solid"
         },
         "marker": {
          "symbol": "circle"
         },
         "mode": "lines",
         "name": "Hamburg",
         "orientation": "v",
         "showlegend": true,
         "type": "scatter",
         "x": [
          "2023-09-13",
          "2023-09-12",
          "2023-09-11",
          "2023-09-10"
         ],
         "xaxis": "x",
         "y": [
          17.9,
          24.5,
          29.3,
          27.1
         ],
         "yaxis": "y"
        },
        {
         "hovertemplate": "Location=Cagliari<br>Date=%{x}<br>Max Temperature (°C)=%{y}<extra></extra>",
         "legendgroup": "Cagliari",
         "line": {
          "color": "#00cc96",
          "dash": "solid"
         },
         "marker": {
          "symbol": "circle"
         },
         "mode": "lines",
         "name": "Cagliari",
         "orientation": "v",
         "showlegend": true,
         "type": "scatter",
         "x": [
          "2023-09-13",
          "2023-09-12",
          "2023-09-11",
          "2023-09-10"
         ],
         "xaxis": "x",
         "y": [
          28.9,
          29.1,
          28.9,
          29
         ],
         "yaxis": "y"
        }
       ],
       "layout": {
        "legend": {
         "title": {
          "text": "Location"
         },
         "tracegroupgap": 0
        },
        "template": {
         "data": {
          "bar": [
           {
            "error_x": {
             "color": "#f2f5fa"
            },
            "error_y": {
             "color": "#f2f5fa"
            },
            "marker": {
             "line": {
              "color": "rgb(17,17,17)",
              "width": 0.5
             },
             "pattern": {
              "fillmode": "overlay",
              "size": 10,
              "solidity": 0.2
             }
            },
            "type": "bar"
           }
          ],
          "barpolar": [
           {
            "marker": {
             "line": {
              "color": "rgb(17,17,17)",
              "width": 0.5
             },
             "pattern": {
              "fillmode": "overlay",
              "size": 10,
              "solidity": 0.2
             }
            },
            "type": "barpolar"
           }
          ],
          "carpet": [
           {
            "aaxis": {
             "endlinecolor": "#A2B1C6",
             "gridcolor": "#506784",
             "linecolor": "#506784",
             "minorgridcolor": "#506784",
             "startlinecolor": "#A2B1C6"
            },
            "baxis": {
             "endlinecolor": "#A2B1C6",
             "gridcolor": "#506784",
             "linecolor": "#506784",
             "minorgridcolor": "#506784",
             "startlinecolor": "#A2B1C6"
            },
            "type": "carpet"
           }
          ],
          "choropleth": [
           {
            "colorbar": {
             "outlinewidth": 0,
             "ticks": ""
            },
            "type": "choropleth"
           }
          ],
          "contour": [
           {
            "colorbar": {
             "outlinewidth": 0,
             "ticks": ""
            },
            "colorscale": [
             [
              0,
              "#0d0887"
             ],
             [
              0.1111111111111111,
              "#46039f"
             ],
             [
              0.2222222222222222,
              "#7201a8"
             ],
             [
              0.3333333333333333,
              "#9c179e"
             ],
             [
              0.4444444444444444,
              "#bd3786"
             ],
             [
              0.5555555555555556,
              "#d8576b"
             ],
             [
              0.6666666666666666,
              "#ed7953"
             ],
             [
              0.7777777777777778,
              "#fb9f3a"
             ],
             [
              0.8888888888888888,
              "#fdca26"
             ],
             [
              1,
              "#f0f921"
             ]
            ],
            "type": "contour"
           }
          ],
          "contourcarpet": [
           {
            "colorbar": {
             "outlinewidth": 0,
             "ticks": ""
            },
            "type": "contourcarpet"
           }
          ],
          "heatmap": [
           {
            "colorbar": {
             "outlinewidth": 0,
             "ticks": ""
            },
            "colorscale": [
             [
              0,
              "#0d0887"
             ],
             [
              0.1111111111111111,
              "#46039f"
             ],
             [
              0.2222222222222222,
              "#7201a8"
             ],
             [
              0.3333333333333333,
              "#9c179e"
             ],
             [
              0.4444444444444444,
              "#bd3786"
             ],
             [
              0.5555555555555556,
              "#d8576b"
             ],
             [
              0.6666666666666666,
              "#ed7953"
             ],
             [
              0.7777777777777778,
              "#fb9f3a"
             ],
             [
              0.8888888888888888,
              "#fdca26"
             ],
             [
              1,
              "#f0f921"
             ]
            ],
            "type": "heatmap"
           }
          ],
          "heatmapgl": [
           {
            "colorbar": {
             "outlinewidth": 0,
             "ticks": ""
            },
            "colorscale": [
             [
              0,
              "#0d0887"
             ],
             [
              0.1111111111111111,
              "#46039f"
             ],
             [
              0.2222222222222222,
              "#7201a8"
             ],
             [
              0.3333333333333333,
              "#9c179e"
             ],
             [
              0.4444444444444444,
              "#bd3786"
             ],
             [
              0.5555555555555556,
              "#d8576b"
             ],
             [
              0.6666666666666666,
              "#ed7953"
             ],
             [
              0.7777777777777778,
              "#fb9f3a"
             ],
             [
              0.8888888888888888,
              "#fdca26"
             ],
             [
              1,
              "#f0f921"
             ]
            ],
            "type": "heatmapgl"
           }
          ],
          "histogram": [
           {
            "marker": {
             "pattern": {
              "fillmode": "overlay",
              "size": 10,
              "solidity": 0.2
             }
            },
            "type": "histogram"
           }
          ],
          "histogram2d": [
           {
            "colorbar": {
             "outlinewidth": 0,
             "ticks": ""
            },
            "colorscale": [
             [
              0,
              "#0d0887"
             ],
             [
              0.1111111111111111,
              "#46039f"
             ],
             [
              0.2222222222222222,
              "#7201a8"
             ],
             [
              0.3333333333333333,
              "#9c179e"
             ],
             [
              0.4444444444444444,
              "#bd3786"
             ],
             [
              0.5555555555555556,
              "#d8576b"
             ],
             [
              0.6666666666666666,
              "#ed7953"
             ],
             [
              0.7777777777777778,
              "#fb9f3a"
             ],
             [
              0.8888888888888888,
              "#fdca26"
             ],
             [
              1,
              "#f0f921"
             ]
            ],
            "type": "histogram2d"
           }
          ],
          "histogram2dcontour": [
           {
            "colorbar": {
             "outlinewidth": 0,
             "ticks": ""
            },
            "colorscale": [
             [
              0,
              "#0d0887"
             ],
             [
              0.1111111111111111,
              "#46039f"
             ],
             [
              0.2222222222222222,
              "#7201a8"
             ],
             [
              0.3333333333333333,
              "#9c179e"
             ],
             [
              0.4444444444444444,
              "#bd3786"
             ],
             [
              0.5555555555555556,
              "#d8576b"
             ],
             [
              0.6666666666666666,
              "#ed7953"
             ],
             [
              0.7777777777777778,
              "#fb9f3a"
             ],
             [
              0.8888888888888888,
              "#fdca26"
             ],
             [
              1,
              "#f0f921"
             ]
            ],
            "type": "histogram2dcontour"
           }
          ],
          "mesh3d": [
           {
            "colorbar": {
             "outlinewidth": 0,
             "ticks": ""
            },
            "type": "mesh3d"
           }
          ],
          "parcoords": [
           {
            "line": {
             "colorbar": {
              "outlinewidth": 0,
              "ticks": ""
             }
            },
            "type": "parcoords"
           }
          ],
          "pie": [
           {
            "automargin": true,
            "type": "pie"
           }
          ],
          "scatter": [
           {
            "marker": {
             "line": {
              "color": "#283442"
             }
            },
            "type": "scatter"
           }
          ],
          "scatter3d": [
           {
            "line": {
             "colorbar": {
              "outlinewidth": 0,
              "ticks": ""
             }
            },
            "marker": {
             "colorbar": {
              "outlinewidth": 0,
              "ticks": ""
             }
            },
            "type": "scatter3d"
           }
          ],
          "scattercarpet": [
           {
            "marker": {
             "colorbar": {
              "outlinewidth": 0,
              "ticks": ""
             }
            },
            "type": "scattercarpet"
           }
          ],
          "scattergeo": [
           {
            "marker": {
             "colorbar": {
              "outlinewidth": 0,
              "ticks": ""
             }
            },
            "type": "scattergeo"
           }
          ],
          "scattergl": [
           {
            "marker": {
             "line": {
              "color": "#283442"
             }
            },
            "type": "scattergl"
           }
          ],
          "scattermapbox": [
           {
            "marker": {
             "colorbar": {
              "outlinewidth": 0,
              "ticks": ""
             }
            },
            "type": "scattermapbox"
           }
          ],
          "scatterpolar": [
           {
            "marker": {
             "colorbar": {
              "outlinewidth": 0,
              "ticks": ""
             }
            },
            "type": "scatterpolar"
           }
          ],
          "scatterpolargl": [
           {
            "marker": {
             "colorbar": {
              "outlinewidth": 0,
              "ticks": ""
             }
            },
            "type": "scatterpolargl"
           }
          ],
          "scatterternary": [
           {
            "marker": {
             "colorbar": {
              "outlinewidth": 0,
              "ticks": ""
             }
            },
            "type": "scatterternary"
           }
          ],
          "surface": [
           {
            "colorbar": {
             "outlinewidth": 0,
             "ticks": ""
            },
            "colorscale": [
             [
              0,
              "#0d0887"
             ],
             [
              0.1111111111111111,
              "#46039f"
             ],
             [
              0.2222222222222222,
              "#7201a8"
             ],
             [
              0.3333333333333333,
              "#9c179e"
             ],
             [
              0.4444444444444444,
              "#bd3786"
             ],
             [
              0.5555555555555556,
              "#d8576b"
             ],
             [
              0.6666666666666666,
              "#ed7953"
             ],
             [
              0.7777777777777778,
              "#fb9f3a"
             ],
             [
              0.8888888888888888,
              "#fdca26"
             ],
             [
              1,
              "#f0f921"
             ]
            ],
            "type": "surface"
           }
          ],
          "table": [
           {
            "cells": {
             "fill": {
              "color": "#506784"
             },
             "line": {
              "color": "rgb(17,17,17)"
             }
            },
            "header": {
             "fill": {
              "color": "#2a3f5f"
             },
             "line": {
              "color": "rgb(17,17,17)"
             }
            },
            "type": "table"
           }
          ]
         },
         "layout": {
          "annotationdefaults": {
           "arrowcolor": "#f2f5fa",
           "arrowhead": 0,
           "arrowwidth": 1
          },
          "autotypenumbers": "strict",
          "coloraxis": {
           "colorbar": {
            "outlinewidth": 0,
            "ticks": ""
           }
          },
          "colorscale": {
           "diverging": [
            [
             0,
             "#8e0152"
            ],
            [
             0.1,
             "#c51b7d"
            ],
            [
             0.2,
             "#de77ae"
            ],
            [
             0.3,
             "#f1b6da"
            ],
            [
             0.4,
             "#fde0ef"
            ],
            [
             0.5,
             "#f7f7f7"
            ],
            [
             0.6,
             "#e6f5d0"
            ],
            [
             0.7,
             "#b8e186"
            ],
            [
             0.8,
             "#7fbc41"
            ],
            [
             0.9,
             "#4d9221"
            ],
            [
             1,
             "#276419"
            ]
           ],
           "sequential": [
            [
             0,
             "#0d0887"
            ],
            [
             0.1111111111111111,
             "#46039f"
            ],
            [
             0.2222222222222222,
             "#7201a8"
            ],
            [
             0.3333333333333333,
             "#9c179e"
            ],
            [
             0.4444444444444444,
             "#bd3786"
            ],
            [
             0.5555555555555556,
             "#d8576b"
            ],
            [
             0.6666666666666666,
             "#ed7953"
            ],
            [
             0.7777777777777778,
             "#fb9f3a"
            ],
            [
             0.8888888888888888,
             "#fdca26"
            ],
            [
             1,
             "#f0f921"
            ]
           ],
           "sequentialminus": [
            [
             0,
             "#0d0887"
            ],
            [
             0.1111111111111111,
             "#46039f"
            ],
            [
             0.2222222222222222,
             "#7201a8"
            ],
            [
             0.3333333333333333,
             "#9c179e"
            ],
            [
             0.4444444444444444,
             "#bd3786"
            ],
            [
             0.5555555555555556,
             "#d8576b"
            ],
            [
             0.6666666666666666,
             "#ed7953"
            ],
            [
             0.7777777777777778,
             "#fb9f3a"
            ],
            [
             0.8888888888888888,
             "#fdca26"
            ],
            [
             1,
             "#f0f921"
            ]
           ]
          },
          "colorway": [
           "#636efa",
           "#EF553B",
           "#00cc96",
           "#ab63fa",
           "#FFA15A",
           "#19d3f3",
           "#FF6692",
           "#B6E880",
           "#FF97FF",
           "#FECB52"
          ],
          "font": {
           "color": "#f2f5fa"
          },
          "geo": {
           "bgcolor": "rgb(17,17,17)",
           "lakecolor": "rgb(17,17,17)",
           "landcolor": "rgb(17,17,17)",
           "showlakes": true,
           "showland": true,
           "subunitcolor": "#506784"
          },
          "hoverlabel": {
           "align": "left"
          },
          "hovermode": "closest",
          "mapbox": {
           "style": "dark"
          },
          "paper_bgcolor": "rgb(17,17,17)",
          "plot_bgcolor": "rgb(17,17,17)",
          "polar": {
           "angularaxis": {
            "gridcolor": "#506784",
            "linecolor": "#506784",
            "ticks": ""
           },
           "bgcolor": "rgb(17,17,17)",
           "radialaxis": {
            "gridcolor": "#506784",
            "linecolor": "#506784",
            "ticks": ""
           }
          },
          "scene": {
           "xaxis": {
            "backgroundcolor": "rgb(17,17,17)",
            "gridcolor": "#506784",
            "gridwidth": 2,
            "linecolor": "#506784",
            "showbackground": true,
            "ticks": "",
            "zerolinecolor": "#C8D4E3"
           },
           "yaxis": {
            "backgroundcolor": "rgb(17,17,17)",
            "gridcolor": "#506784",
            "gridwidth": 2,
            "linecolor": "#506784",
            "showbackground": true,
            "ticks": "",
            "zerolinecolor": "#C8D4E3"
           },
           "zaxis": {
            "backgroundcolor": "rgb(17,17,17)",
            "gridcolor": "#506784",
            "gridwidth": 2,
            "linecolor": "#506784",
            "showbackground": true,
            "ticks": "",
            "zerolinecolor": "#C8D4E3"
           }
          },
          "shapedefaults": {
           "line": {
            "color": "#f2f5fa"
           }
          },
          "sliderdefaults": {
           "bgcolor": "#C8D4E3",
           "bordercolor": "rgb(17,17,17)",
           "borderwidth": 1,
           "tickwidth": 0
          },
          "ternary": {
           "aaxis": {
            "gridcolor": "#506784",
            "linecolor": "#506784",
            "ticks": ""
           },
           "baxis": {
            "gridcolor": "#506784",
            "linecolor": "#506784",
            "ticks": ""
           },
           "bgcolor": "rgb(17,17,17)",
           "caxis": {
            "gridcolor": "#506784",
            "linecolor": "#506784",
            "ticks": ""
           }
          },
          "title": {
           "x": 0.05
          },
          "updatemenudefaults": {
           "bgcolor": "#506784",
           "borderwidth": 0
          },
          "xaxis": {
           "automargin": true,
           "gridcolor": "#283442",
           "linecolor": "#506784",
           "ticks": "",
           "title": {
            "standoff": 15
           },
           "zerolinecolor": "#283442",
           "zerolinewidth": 2
          },
          "yaxis": {
           "automargin": true,
           "gridcolor": "#283442",
           "linecolor": "#506784",
           "ticks": "",
           "title": {
            "standoff": 15
           },
           "zerolinecolor": "#283442",
           "zerolinewidth": 2
          }
         }
        },
        "title": {
         "text": "Max Temperatures in Berlin, Cagliari, and Hamburg"
        },
        "xaxis": {
         "anchor": "y",
         "domain": [
          0,
          1
         ],
         "title": {
          "text": "Date"
         }
        },
        "yaxis": {
         "anchor": "x",
         "domain": [
          0,
          1
         ],
         "title": {
          "text": "Max Temperature (°C)"
         }
        }
       }
      }
     },
     "metadata": {},
     "output_type": "display_data"
    }
   ],
   "source": [
    "# Filter data for Berlin, Cagliari, and Hamburg\n",
    "df_filtered = df[df['city'].isin(['Berlin', 'Cagliari', 'Hamburg'])]\n",
    "\n",
    "# Create an interactive line plot for Berlin, Cagliari, and Hamburg\n",
    "fig = px.line(df_filtered, x='date', y='max_temp_c', color='city', \n",
    "              title='Max Temperatures in Berlin, Cagliari, and Hamburg', \n",
    "              labels={'date': 'Date', 'max_temp_c': 'Max Temperature (°C)', 'city': 'Location'},\n",
    "              template='plotly_dark')\n",
    "\n",
    "# Show the plot\n",
    "fig.show()\n"
   ]
  },
  {
   "cell_type": "code",
   "execution_count": 8,
   "metadata": {},
   "outputs": [
    {
     "data": {
      "text/plain": [
       "Index(['date', 'day_of_month', 'month_of_year', 'year', 'day_of_week',\n",
       "       'week_of_year', 'year_and_week', 'city', 'region', 'country', 'lat',\n",
       "       'lon', 'timezone_id', 'max_temp_c', 'min_temp_c', 'avg_temp_c',\n",
       "       'total_precip_mm', 'total_snow_cm', 'avg_humidity',\n",
       "       'daily_will_it_rain', 'daily_chance_of_rain', 'daily_will_it_snow',\n",
       "       'daily_chance_of_snow', 'condition_text', 'condition_icon',\n",
       "       'condition_icon_md', 'condition_code', 'max_wind_kph', 'avg_vis_km',\n",
       "       'uv', 'sunrise_n', 'sunset_n', 'moonrise_n', 'moonset_n', 'moon_phase',\n",
       "       'moon_illumination'],\n",
       "      dtype='object')"
      ]
     },
     "execution_count": 8,
     "metadata": {},
     "output_type": "execute_result"
    }
   ],
   "source": [
    "df.columns"
   ]
  },
  {
   "cell_type": "code",
   "execution_count": null,
   "metadata": {},
   "outputs": [],
   "source": []
  }
 ],
 "metadata": {
  "kernelspec": {
   "display_name": "base",
   "language": "python",
   "name": "python3"
  },
  "language_info": {
   "codemirror_mode": {
    "name": "ipython",
    "version": 3
   },
   "file_extension": ".py",
   "mimetype": "text/x-python",
   "name": "python",
   "nbconvert_exporter": "python",
   "pygments_lexer": "ipython3",
   "version": "3.12.2"
  }
 },
 "nbformat": 4,
 "nbformat_minor": 2
}
